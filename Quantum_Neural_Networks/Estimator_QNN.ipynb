{
 "cells": [
  {
   "attachments": {},
   "cell_type": "markdown",
   "metadata": {},
   "source": [
    "EstimatorQNN = A network based on the evaluation of quantum mechanical observables.\n",
    "* Input: parametrized quantum circuit + optional quantum mechanical observable\n",
    "* Output: expectation value computations"
   ]
  },
  {
   "cell_type": "code",
   "execution_count": 1,
   "metadata": {},
   "outputs": [
    {
     "name": "stdout",
     "output_type": "stream",
     "text": [
      "Requirement already satisfied: qiskit in c:\\users\\simon\\appdata\\local\\packages\\pythonsoftwarefoundation.python.3.9_qbz5n2kfra8p0\\localcache\\local-packages\\python39\\site-packages (from -r ../requirements.txt (line 1)) (0.42.1)\n",
      "Requirement already satisfied: qiskit-machine-learning in c:\\users\\simon\\appdata\\local\\packages\\pythonsoftwarefoundation.python.3.9_qbz5n2kfra8p0\\localcache\\local-packages\\python39\\site-packages (from -r ../requirements.txt (line 2)) (0.6.0)\n",
      "Requirement already satisfied: pylatexenc in c:\\users\\simon\\appdata\\local\\packages\\pythonsoftwarefoundation.python.3.9_qbz5n2kfra8p0\\localcache\\local-packages\\python39\\site-packages (from -r ../requirements.txt (line 3)) (2.10)\n",
      "Requirement already satisfied: qiskit-ibmq-provider==0.20.2 in c:\\users\\simon\\appdata\\local\\packages\\pythonsoftwarefoundation.python.3.9_qbz5n2kfra8p0\\localcache\\local-packages\\python39\\site-packages (from qiskit->-r ../requirements.txt (line 1)) (0.20.2)\n",
      "Requirement already satisfied: qiskit-terra==0.23.3 in c:\\users\\simon\\appdata\\local\\packages\\pythonsoftwarefoundation.python.3.9_qbz5n2kfra8p0\\localcache\\local-packages\\python39\\site-packages (from qiskit->-r ../requirements.txt (line 1)) (0.23.3)\n",
      "Requirement already satisfied: qiskit-aer==0.12.0 in c:\\users\\simon\\appdata\\local\\packages\\pythonsoftwarefoundation.python.3.9_qbz5n2kfra8p0\\localcache\\local-packages\\python39\\site-packages (from qiskit->-r ../requirements.txt (line 1)) (0.12.0)\n",
      "Requirement already satisfied: numpy>=1.16.3 in c:\\users\\simon\\appdata\\local\\packages\\pythonsoftwarefoundation.python.3.9_qbz5n2kfra8p0\\localcache\\local-packages\\python39\\site-packages (from qiskit-aer==0.12.0->qiskit->-r ../requirements.txt (line 1)) (1.19.5)\n",
      "Requirement already satisfied: scipy>=1.0 in c:\\users\\simon\\appdata\\local\\packages\\pythonsoftwarefoundation.python.3.9_qbz5n2kfra8p0\\localcache\\local-packages\\python39\\site-packages (from qiskit-aer==0.12.0->qiskit->-r ../requirements.txt (line 1)) (1.6.2)\n",
      "Requirement already satisfied: urllib3>=1.21.1 in c:\\users\\simon\\appdata\\local\\packages\\pythonsoftwarefoundation.python.3.9_qbz5n2kfra8p0\\localcache\\local-packages\\python39\\site-packages (from qiskit-ibmq-provider==0.20.2->qiskit->-r ../requirements.txt (line 1)) (1.26.4)\n",
      "Requirement already satisfied: websocket-client>=1.5.1 in c:\\users\\simon\\appdata\\local\\packages\\pythonsoftwarefoundation.python.3.9_qbz5n2kfra8p0\\localcache\\local-packages\\python39\\site-packages (from qiskit-ibmq-provider==0.20.2->qiskit->-r ../requirements.txt (line 1)) (1.5.1)\n",
      "Requirement already satisfied: requests-ntlm<=1.1.0 in c:\\users\\simon\\appdata\\local\\packages\\pythonsoftwarefoundation.python.3.9_qbz5n2kfra8p0\\localcache\\local-packages\\python39\\site-packages (from qiskit-ibmq-provider==0.20.2->qiskit->-r ../requirements.txt (line 1)) (1.1.0)\n",
      "Requirement already satisfied: websockets>=10.0 in c:\\users\\simon\\appdata\\local\\packages\\pythonsoftwarefoundation.python.3.9_qbz5n2kfra8p0\\localcache\\local-packages\\python39\\site-packages (from qiskit-ibmq-provider==0.20.2->qiskit->-r ../requirements.txt (line 1)) (11.0)\n",
      "Requirement already satisfied: requests>=2.19 in c:\\users\\simon\\appdata\\local\\packages\\pythonsoftwarefoundation.python.3.9_qbz5n2kfra8p0\\localcache\\local-packages\\python39\\site-packages (from qiskit-ibmq-provider==0.20.2->qiskit->-r ../requirements.txt (line 1)) (2.25.1)\n",
      "Requirement already satisfied: python-dateutil>=2.8.0 in c:\\users\\simon\\appdata\\local\\packages\\pythonsoftwarefoundation.python.3.9_qbz5n2kfra8p0\\localcache\\local-packages\\python39\\site-packages (from qiskit-ibmq-provider==0.20.2->qiskit->-r ../requirements.txt (line 1)) (2.8.2)\n",
      "Requirement already satisfied: psutil>=5 in c:\\users\\simon\\appdata\\local\\packages\\pythonsoftwarefoundation.python.3.9_qbz5n2kfra8p0\\localcache\\local-packages\\python39\\site-packages (from qiskit-terra==0.23.3->qiskit->-r ../requirements.txt (line 1)) (5.9.4)\n",
      "Requirement already satisfied: rustworkx>=0.12.0 in c:\\users\\simon\\appdata\\local\\packages\\pythonsoftwarefoundation.python.3.9_qbz5n2kfra8p0\\localcache\\local-packages\\python39\\site-packages (from qiskit-terra==0.23.3->qiskit->-r ../requirements.txt (line 1)) (0.12.1)\n",
      "Requirement already satisfied: stevedore>=3.0.0 in c:\\users\\simon\\appdata\\local\\packages\\pythonsoftwarefoundation.python.3.9_qbz5n2kfra8p0\\localcache\\local-packages\\python39\\site-packages (from qiskit-terra==0.23.3->qiskit->-r ../requirements.txt (line 1)) (5.0.0)\n",
      "Requirement already satisfied: sympy>=1.3 in c:\\users\\simon\\appdata\\local\\packages\\pythonsoftwarefoundation.python.3.9_qbz5n2kfra8p0\\localcache\\local-packages\\python39\\site-packages (from qiskit-terra==0.23.3->qiskit->-r ../requirements.txt (line 1)) (1.11.1)\n",
      "Requirement already satisfied: dill>=0.3 in c:\\users\\simon\\appdata\\local\\packages\\pythonsoftwarefoundation.python.3.9_qbz5n2kfra8p0\\localcache\\local-packages\\python39\\site-packages (from qiskit-terra==0.23.3->qiskit->-r ../requirements.txt (line 1)) (0.3.5.1)\n",
      "Requirement already satisfied: ply>=3.10 in c:\\users\\simon\\appdata\\local\\packages\\pythonsoftwarefoundation.python.3.9_qbz5n2kfra8p0\\localcache\\local-packages\\python39\\site-packages (from qiskit-terra==0.23.3->qiskit->-r ../requirements.txt (line 1)) (3.11)\n",
      "Requirement already satisfied: scikit-learn>=0.20.0 in c:\\users\\simon\\appdata\\local\\packages\\pythonsoftwarefoundation.python.3.9_qbz5n2kfra8p0\\localcache\\local-packages\\python39\\site-packages (from qiskit-machine-learning->-r ../requirements.txt (line 2)) (0.24.1)\n",
      "Requirement already satisfied: fastdtw in c:\\users\\simon\\appdata\\local\\packages\\pythonsoftwarefoundation.python.3.9_qbz5n2kfra8p0\\localcache\\local-packages\\python39\\site-packages (from qiskit-machine-learning->-r ../requirements.txt (line 2)) (0.3.4)\n",
      "Requirement already satisfied: setuptools>=40.1.0 in c:\\program files\\windowsapps\\pythonsoftwarefoundation.python.3.9_3.9.3568.0_x64__qbz5n2kfra8p0\\lib\\site-packages (from qiskit-machine-learning->-r ../requirements.txt (line 2)) (58.1.0)\n",
      "Requirement already satisfied: threadpoolctl>=2.0.0 in c:\\users\\simon\\appdata\\local\\packages\\pythonsoftwarefoundation.python.3.9_qbz5n2kfra8p0\\localcache\\local-packages\\python39\\site-packages (from scikit-learn>=0.20.0->qiskit-machine-learning->-r ../requirements.txt (line 2)) (2.1.0)\n",
      "Requirement already satisfied: joblib>=0.11 in c:\\users\\simon\\appdata\\local\\packages\\pythonsoftwarefoundation.python.3.9_qbz5n2kfra8p0\\localcache\\local-packages\\python39\\site-packages (from scikit-learn>=0.20.0->qiskit-machine-learning->-r ../requirements.txt (line 2)) (1.0.1)\n",
      "Requirement already satisfied: six>=1.5 in c:\\users\\simon\\appdata\\local\\packages\\pythonsoftwarefoundation.python.3.9_qbz5n2kfra8p0\\localcache\\local-packages\\python39\\site-packages (from python-dateutil>=2.8.0->qiskit-ibmq-provider==0.20.2->qiskit->-r ../requirements.txt (line 1)) (1.15.0)\n",
      "Requirement already satisfied: idna<3,>=2.5 in c:\\users\\simon\\appdata\\local\\packages\\pythonsoftwarefoundation.python.3.9_qbz5n2kfra8p0\\localcache\\local-packages\\python39\\site-packages (from requests>=2.19->qiskit-ibmq-provider==0.20.2->qiskit->-r ../requirements.txt (line 1)) (2.10)\n",
      "Requirement already satisfied: chardet<5,>=3.0.2 in c:\\users\\simon\\appdata\\local\\packages\\pythonsoftwarefoundation.python.3.9_qbz5n2kfra8p0\\localcache\\local-packages\\python39\\site-packages (from requests>=2.19->qiskit-ibmq-provider==0.20.2->qiskit->-r ../requirements.txt (line 1)) (4.0.0)\n",
      "Requirement already satisfied: certifi>=2017.4.17 in c:\\users\\simon\\appdata\\local\\packages\\pythonsoftwarefoundation.python.3.9_qbz5n2kfra8p0\\localcache\\local-packages\\python39\\site-packages (from requests>=2.19->qiskit-ibmq-provider==0.20.2->qiskit->-r ../requirements.txt (line 1)) (2020.12.5)\n",
      "Requirement already satisfied: cryptography>=1.3 in c:\\users\\simon\\appdata\\local\\packages\\pythonsoftwarefoundation.python.3.9_qbz5n2kfra8p0\\localcache\\local-packages\\python39\\site-packages (from requests-ntlm<=1.1.0->qiskit-ibmq-provider==0.20.2->qiskit->-r ../requirements.txt (line 1)) (40.0.1)\n",
      "Requirement already satisfied: ntlm-auth>=1.0.2 in c:\\users\\simon\\appdata\\local\\packages\\pythonsoftwarefoundation.python.3.9_qbz5n2kfra8p0\\localcache\\local-packages\\python39\\site-packages (from requests-ntlm<=1.1.0->qiskit-ibmq-provider==0.20.2->qiskit->-r ../requirements.txt (line 1)) (1.5.0)\n",
      "Requirement already satisfied: pbr!=2.1.0,>=2.0.0 in c:\\users\\simon\\appdata\\local\\packages\\pythonsoftwarefoundation.python.3.9_qbz5n2kfra8p0\\localcache\\local-packages\\python39\\site-packages (from stevedore>=3.0.0->qiskit-terra==0.23.3->qiskit->-r ../requirements.txt (line 1)) (5.11.1)\n",
      "Requirement already satisfied: mpmath>=0.19 in c:\\users\\simon\\appdata\\local\\packages\\pythonsoftwarefoundation.python.3.9_qbz5n2kfra8p0\\localcache\\local-packages\\python39\\site-packages (from sympy>=1.3->qiskit-terra==0.23.3->qiskit->-r ../requirements.txt (line 1)) (1.3.0)\n",
      "Requirement already satisfied: cffi>=1.12 in c:\\users\\simon\\appdata\\local\\packages\\pythonsoftwarefoundation.python.3.9_qbz5n2kfra8p0\\localcache\\local-packages\\python39\\site-packages (from cryptography>=1.3->requests-ntlm<=1.1.0->qiskit-ibmq-provider==0.20.2->qiskit->-r ../requirements.txt (line 1)) (1.15.1)\n",
      "Requirement already satisfied: pycparser in c:\\users\\simon\\appdata\\local\\packages\\pythonsoftwarefoundation.python.3.9_qbz5n2kfra8p0\\localcache\\local-packages\\python39\\site-packages (from cffi>=1.12->cryptography>=1.3->requests-ntlm<=1.1.0->qiskit-ibmq-provider==0.20.2->qiskit->-r ../requirements.txt (line 1)) (2.21)\n"
     ]
    },
    {
     "name": "stderr",
     "output_type": "stream",
     "text": [
      "WARNING: There was an error checking the latest version of pip.\n"
     ]
    }
   ],
   "source": [
    "!pip3 install -r ../requirements.txt"
   ]
  },
  {
   "cell_type": "code",
   "execution_count": 19,
   "metadata": {},
   "outputs": [],
   "source": [
    "from qiskit.utils import algorithm_globals\n",
    "from qiskit.circuit import Parameter\n",
    "from qiskit import QuantumCircuit\n",
    "from qiskit.quantum_info import SparsePauliOp\n",
    "from qiskit_machine_learning.neural_networks import EstimatorQNN\n",
    "\n",
    "algorithm_globals.random_seed = 73"
   ]
  },
  {
   "cell_type": "code",
   "execution_count": 20,
   "metadata": {},
   "outputs": [
    {
     "data": {
      "text/plain": [
       "<qiskit.circuit.instructionset.InstructionSet at 0x28ccf021310>"
      ]
     },
     "execution_count": 20,
     "metadata": {},
     "output_type": "execute_result"
    }
   ],
   "source": [
    "params1 = [Parameter(\"input1\"), Parameter(\"weight1\")]\n",
    "qc1 = QuantumCircuit(1)\n",
    "qc1.h(0) # Handle for the instructions\n",
    "qc1.ry(params1[0], 0) # list of quantum circuit parameters that should be treated as “network inputs”\n",
    "qc1.rx(params1[1], 0) #  list of quantum circuit parameters that should be treated as “network weights”"
   ]
  },
  {
   "attachments": {},
   "cell_type": "markdown",
   "metadata": {},
   "source": [
    "Creating an [observable](https://en.wikipedia.org/wiki/Observable)"
   ]
  },
  {
   "cell_type": "code",
   "execution_count": 21,
   "metadata": {},
   "outputs": [],
   "source": [
    "observable1 = SparsePauliOp.from_list([(\"Y\" * qc1.num_qubits, 1)])"
   ]
  },
  {
   "cell_type": "code",
   "execution_count": 22,
   "metadata": {},
   "outputs": [
    {
     "data": {
      "text/plain": [
       "<qiskit_machine_learning.neural_networks.estimator_qnn.EstimatorQNN at 0x28cfecf7a00>"
      ]
     },
     "execution_count": 22,
     "metadata": {},
     "output_type": "execute_result"
    }
   ],
   "source": [
    "estimator_qnn = EstimatorQNN(\n",
    "    circuit=qc1, observables=observable1, input_params=[params1[0]], weight_params=[params1[1]]\n",
    ")\n",
    "estimator_qnn"
   ]
  }
 ],
 "metadata": {
  "kernelspec": {
   "display_name": "Python 3",
   "language": "python",
   "name": "python3"
  },
  "language_info": {
   "codemirror_mode": {
    "name": "ipython",
    "version": 3
   },
   "file_extension": ".py",
   "mimetype": "text/x-python",
   "name": "python",
   "nbconvert_exporter": "python",
   "pygments_lexer": "ipython3",
   "version": "3.9.13"
  },
  "orig_nbformat": 4
 },
 "nbformat": 4,
 "nbformat_minor": 2
}
